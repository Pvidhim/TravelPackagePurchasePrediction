{
 "cells": [
  {
   "cell_type": "markdown",
   "id": "4ce1d9c9",
   "metadata": {},
   "source": [
    "# TOUR PACKAGE PURCHASE PREDICTION "
   ]
  },
  {
   "cell_type": "markdown",
   "id": "9b608060",
   "metadata": {},
   "source": [
    "### Import important packages "
   ]
  },
  {
   "cell_type": "code",
   "execution_count": 36,
   "id": "31150d80",
   "metadata": {},
   "outputs": [],
   "source": [
    "import pandas as pd\n",
    "import numpy as np\n",
    "import matplotlib.pyplot as plt\n",
    "import seaborn as sns\n",
    "import scipy.stats as stats\n",
    "from scipy.stats import chi2_contingency\n",
    "from sklearn.preprocessing import LabelEncoder\n",
    "from sklearn.model_selection import train_test_split, GridSearchCV\n",
    "from sklearn.tree import DecisionTreeClassifier\n",
    "from sklearn.ensemble import RandomForestClassifier\n",
    "from sklearn.neighbors import KNeighborsClassifier\n",
    "from sklearn.svm import SVC\n",
    "from sklearn.linear_model import LogisticRegression\n",
    "from sklearn.metrics import accuracy_score\n",
    "from xgboost import XGBClassifier\n",
    "from sklearn.model_selection import GridSearchCV\n",
    "from sklearn.metrics import accuracy_score\n",
    "import sklearn"
   ]
  },
  {
   "cell_type": "markdown",
   "id": "7f0bb91f",
   "metadata": {},
   "source": [
    "### Load dataset"
   ]
  },
  {
   "cell_type": "code",
   "execution_count": 37,
   "id": "09c5b12d",
   "metadata": {},
   "outputs": [],
   "source": [
    "data=pd.read_csv(\"tour_package.csv\")"
   ]
  },
  {
   "cell_type": "code",
   "execution_count": 38,
   "id": "54012151",
   "metadata": {},
   "outputs": [],
   "source": [
    "data = data.drop_duplicates()"
   ]
  },
  {
   "cell_type": "markdown",
   "id": "164443c1",
   "metadata": {},
   "source": []
  },
  {
   "cell_type": "code",
   "execution_count": 39,
   "id": "ff366ccb",
   "metadata": {},
   "outputs": [
    {
     "data": {
      "text/plain": [
       "CustomerID                    0\n",
       "ProdTaken                     0\n",
       "Age                         226\n",
       "TypeofContact                25\n",
       "CityTier                      0\n",
       "DurationOfPitch             251\n",
       "Occupation                    0\n",
       "Gender                        0\n",
       "NumberOfPersonVisiting        0\n",
       "NumberOfFollowups            45\n",
       "ProductPitched                0\n",
       "PreferredPropertyStar        26\n",
       "MaritalStatus                 0\n",
       "NumberOfTrips               140\n",
       "Passport                      0\n",
       "PitchSatisfactionScore        0\n",
       "OwnCar                        0\n",
       "NumberOfChildrenVisiting     66\n",
       "Designation                   0\n",
       "MonthlyIncome               233\n",
       "dtype: int64"
      ]
     },
     "execution_count": 39,
     "metadata": {},
     "output_type": "execute_result"
    }
   ],
   "source": [
    "data.isnull().sum()"
   ]
  },
  {
   "cell_type": "code",
   "execution_count": 40,
   "id": "f82f5dab",
   "metadata": {},
   "outputs": [
    {
     "name": "stdout",
     "output_type": "stream",
     "text": [
      "Attributes with outliers: ['ProdTaken', 'DurationOfPitch', 'NumberOfPersonVisiting', 'NumberOfFollowups', 'NumberOfTrips', 'MonthlyIncome']\n"
     ]
    }
   ],
   "source": [
    "outliers = []\n",
    "for feature in data.select_dtypes(include=np.number).columns:\n",
    "    Q1 = data[feature].quantile(0.25)\n",
    "    Q3 = data[feature].quantile(0.75)\n",
    "    IQR = Q3 - Q1\n",
    "    lower_bound = Q1 - (1.5 * IQR)\n",
    "    upper_bound = Q3 + (1.5 * IQR)\n",
    "    if data[(data[feature] < lower_bound) | (data[feature] > upper_bound)].any(axis=None):\n",
    "        outliers.append(feature)\n",
    "\n",
    "print(\"Attributes with outliers:\", outliers)\n",
    "\n",
    "#lower_bound = data['column'].quantile(0.05)\n",
    "#upper_bound = data['column'].quantile(0.95)\n",
    "#data['column'] = data['column'].clip(lower_bound, upper_boun"
   ]
  },
  {
   "cell_type": "code",
   "execution_count": 41,
   "id": "e1ff8631",
   "metadata": {},
   "outputs": [
    {
     "data": {
      "text/html": [
       "<div>\n",
       "<style scoped>\n",
       "    .dataframe tbody tr th:only-of-type {\n",
       "        vertical-align: middle;\n",
       "    }\n",
       "\n",
       "    .dataframe tbody tr th {\n",
       "        vertical-align: top;\n",
       "    }\n",
       "\n",
       "    .dataframe thead th {\n",
       "        text-align: right;\n",
       "    }\n",
       "</style>\n",
       "<table border=\"1\" class=\"dataframe\">\n",
       "  <thead>\n",
       "    <tr style=\"text-align: right;\">\n",
       "      <th></th>\n",
       "      <th>CustomerID</th>\n",
       "      <th>ProdTaken</th>\n",
       "      <th>Age</th>\n",
       "      <th>CityTier</th>\n",
       "      <th>DurationOfPitch</th>\n",
       "      <th>NumberOfPersonVisiting</th>\n",
       "      <th>NumberOfFollowups</th>\n",
       "      <th>PreferredPropertyStar</th>\n",
       "      <th>NumberOfTrips</th>\n",
       "      <th>Passport</th>\n",
       "      <th>PitchSatisfactionScore</th>\n",
       "      <th>OwnCar</th>\n",
       "      <th>NumberOfChildrenVisiting</th>\n",
       "      <th>MonthlyIncome</th>\n",
       "    </tr>\n",
       "  </thead>\n",
       "  <tbody>\n",
       "    <tr>\n",
       "      <th>count</th>\n",
       "      <td>4888.000000</td>\n",
       "      <td>4888.000000</td>\n",
       "      <td>4662.000000</td>\n",
       "      <td>4888.000000</td>\n",
       "      <td>4637.000000</td>\n",
       "      <td>4888.000000</td>\n",
       "      <td>4843.000000</td>\n",
       "      <td>4862.000000</td>\n",
       "      <td>4748.000000</td>\n",
       "      <td>4888.000000</td>\n",
       "      <td>4888.000000</td>\n",
       "      <td>4888.000000</td>\n",
       "      <td>4822.000000</td>\n",
       "      <td>4655.000000</td>\n",
       "    </tr>\n",
       "    <tr>\n",
       "      <th>mean</th>\n",
       "      <td>202443.500000</td>\n",
       "      <td>0.188216</td>\n",
       "      <td>37.622265</td>\n",
       "      <td>1.654255</td>\n",
       "      <td>15.490835</td>\n",
       "      <td>2.905074</td>\n",
       "      <td>3.708445</td>\n",
       "      <td>3.581037</td>\n",
       "      <td>3.236521</td>\n",
       "      <td>0.290917</td>\n",
       "      <td>3.078151</td>\n",
       "      <td>0.620295</td>\n",
       "      <td>1.187267</td>\n",
       "      <td>23619.853491</td>\n",
       "    </tr>\n",
       "    <tr>\n",
       "      <th>std</th>\n",
       "      <td>1411.188388</td>\n",
       "      <td>0.390925</td>\n",
       "      <td>9.316387</td>\n",
       "      <td>0.916583</td>\n",
       "      <td>8.519643</td>\n",
       "      <td>0.724891</td>\n",
       "      <td>1.002509</td>\n",
       "      <td>0.798009</td>\n",
       "      <td>1.849019</td>\n",
       "      <td>0.454232</td>\n",
       "      <td>1.365792</td>\n",
       "      <td>0.485363</td>\n",
       "      <td>0.857861</td>\n",
       "      <td>5380.698361</td>\n",
       "    </tr>\n",
       "    <tr>\n",
       "      <th>min</th>\n",
       "      <td>200000.000000</td>\n",
       "      <td>0.000000</td>\n",
       "      <td>18.000000</td>\n",
       "      <td>1.000000</td>\n",
       "      <td>5.000000</td>\n",
       "      <td>1.000000</td>\n",
       "      <td>1.000000</td>\n",
       "      <td>3.000000</td>\n",
       "      <td>1.000000</td>\n",
       "      <td>0.000000</td>\n",
       "      <td>1.000000</td>\n",
       "      <td>0.000000</td>\n",
       "      <td>0.000000</td>\n",
       "      <td>1000.000000</td>\n",
       "    </tr>\n",
       "    <tr>\n",
       "      <th>25%</th>\n",
       "      <td>201221.750000</td>\n",
       "      <td>0.000000</td>\n",
       "      <td>31.000000</td>\n",
       "      <td>1.000000</td>\n",
       "      <td>9.000000</td>\n",
       "      <td>2.000000</td>\n",
       "      <td>3.000000</td>\n",
       "      <td>3.000000</td>\n",
       "      <td>2.000000</td>\n",
       "      <td>0.000000</td>\n",
       "      <td>2.000000</td>\n",
       "      <td>0.000000</td>\n",
       "      <td>1.000000</td>\n",
       "      <td>20346.000000</td>\n",
       "    </tr>\n",
       "    <tr>\n",
       "      <th>50%</th>\n",
       "      <td>202443.500000</td>\n",
       "      <td>0.000000</td>\n",
       "      <td>36.000000</td>\n",
       "      <td>1.000000</td>\n",
       "      <td>13.000000</td>\n",
       "      <td>3.000000</td>\n",
       "      <td>4.000000</td>\n",
       "      <td>3.000000</td>\n",
       "      <td>3.000000</td>\n",
       "      <td>0.000000</td>\n",
       "      <td>3.000000</td>\n",
       "      <td>1.000000</td>\n",
       "      <td>1.000000</td>\n",
       "      <td>22347.000000</td>\n",
       "    </tr>\n",
       "    <tr>\n",
       "      <th>75%</th>\n",
       "      <td>203665.250000</td>\n",
       "      <td>0.000000</td>\n",
       "      <td>44.000000</td>\n",
       "      <td>3.000000</td>\n",
       "      <td>20.000000</td>\n",
       "      <td>3.000000</td>\n",
       "      <td>4.000000</td>\n",
       "      <td>4.000000</td>\n",
       "      <td>4.000000</td>\n",
       "      <td>1.000000</td>\n",
       "      <td>4.000000</td>\n",
       "      <td>1.000000</td>\n",
       "      <td>2.000000</td>\n",
       "      <td>25571.000000</td>\n",
       "    </tr>\n",
       "    <tr>\n",
       "      <th>max</th>\n",
       "      <td>204887.000000</td>\n",
       "      <td>1.000000</td>\n",
       "      <td>61.000000</td>\n",
       "      <td>3.000000</td>\n",
       "      <td>127.000000</td>\n",
       "      <td>5.000000</td>\n",
       "      <td>6.000000</td>\n",
       "      <td>5.000000</td>\n",
       "      <td>22.000000</td>\n",
       "      <td>1.000000</td>\n",
       "      <td>5.000000</td>\n",
       "      <td>1.000000</td>\n",
       "      <td>3.000000</td>\n",
       "      <td>98678.000000</td>\n",
       "    </tr>\n",
       "  </tbody>\n",
       "</table>\n",
       "</div>"
      ],
      "text/plain": [
       "          CustomerID    ProdTaken          Age     CityTier  DurationOfPitch  \\\n",
       "count    4888.000000  4888.000000  4662.000000  4888.000000      4637.000000   \n",
       "mean   202443.500000     0.188216    37.622265     1.654255        15.490835   \n",
       "std      1411.188388     0.390925     9.316387     0.916583         8.519643   \n",
       "min    200000.000000     0.000000    18.000000     1.000000         5.000000   \n",
       "25%    201221.750000     0.000000    31.000000     1.000000         9.000000   \n",
       "50%    202443.500000     0.000000    36.000000     1.000000        13.000000   \n",
       "75%    203665.250000     0.000000    44.000000     3.000000        20.000000   \n",
       "max    204887.000000     1.000000    61.000000     3.000000       127.000000   \n",
       "\n",
       "       NumberOfPersonVisiting  NumberOfFollowups  PreferredPropertyStar  \\\n",
       "count             4888.000000        4843.000000            4862.000000   \n",
       "mean                 2.905074           3.708445               3.581037   \n",
       "std                  0.724891           1.002509               0.798009   \n",
       "min                  1.000000           1.000000               3.000000   \n",
       "25%                  2.000000           3.000000               3.000000   \n",
       "50%                  3.000000           4.000000               3.000000   \n",
       "75%                  3.000000           4.000000               4.000000   \n",
       "max                  5.000000           6.000000               5.000000   \n",
       "\n",
       "       NumberOfTrips     Passport  PitchSatisfactionScore       OwnCar  \\\n",
       "count    4748.000000  4888.000000             4888.000000  4888.000000   \n",
       "mean        3.236521     0.290917                3.078151     0.620295   \n",
       "std         1.849019     0.454232                1.365792     0.485363   \n",
       "min         1.000000     0.000000                1.000000     0.000000   \n",
       "25%         2.000000     0.000000                2.000000     0.000000   \n",
       "50%         3.000000     0.000000                3.000000     1.000000   \n",
       "75%         4.000000     1.000000                4.000000     1.000000   \n",
       "max        22.000000     1.000000                5.000000     1.000000   \n",
       "\n",
       "       NumberOfChildrenVisiting  MonthlyIncome  \n",
       "count               4822.000000    4655.000000  \n",
       "mean                   1.187267   23619.853491  \n",
       "std                    0.857861    5380.698361  \n",
       "min                    0.000000    1000.000000  \n",
       "25%                    1.000000   20346.000000  \n",
       "50%                    1.000000   22347.000000  \n",
       "75%                    2.000000   25571.000000  \n",
       "max                    3.000000   98678.000000  "
      ]
     },
     "execution_count": 41,
     "metadata": {},
     "output_type": "execute_result"
    }
   ],
   "source": [
    "data.describe()"
   ]
  },
  {
   "cell_type": "code",
   "execution_count": 42,
   "id": "2c23a07a",
   "metadata": {},
   "outputs": [
    {
     "data": {
      "text/plain": [
       "CustomerID                    int64\n",
       "ProdTaken                     int64\n",
       "Age                         float64\n",
       "TypeofContact                object\n",
       "CityTier                      int64\n",
       "DurationOfPitch             float64\n",
       "Occupation                   object\n",
       "Gender                       object\n",
       "NumberOfPersonVisiting        int64\n",
       "NumberOfFollowups           float64\n",
       "ProductPitched               object\n",
       "PreferredPropertyStar       float64\n",
       "MaritalStatus                object\n",
       "NumberOfTrips               float64\n",
       "Passport                      int64\n",
       "PitchSatisfactionScore        int64\n",
       "OwnCar                        int64\n",
       "NumberOfChildrenVisiting    float64\n",
       "Designation                  object\n",
       "MonthlyIncome               float64\n",
       "dtype: object"
      ]
     },
     "execution_count": 42,
     "metadata": {},
     "output_type": "execute_result"
    }
   ],
   "source": [
    "data.dtypes"
   ]
  },
  {
   "cell_type": "code",
   "execution_count": 43,
   "id": "72ec2ed8",
   "metadata": {},
   "outputs": [
    {
     "name": "stderr",
     "output_type": "stream",
     "text": [
      "C:\\Users\\dell\\AppData\\Local\\Temp\\ipykernel_16144\\2690095979.py:2: FutureWarning: A value is trying to be set on a copy of a DataFrame or Series through chained assignment using an inplace method.\n",
      "The behavior will change in pandas 3.0. This inplace method will never work because the intermediate object on which we are setting values always behaves as a copy.\n",
      "\n",
      "For example, when doing 'df[col].method(value, inplace=True)', try using 'df.method({col: value}, inplace=True)' or df[col] = df[col].method(value) instead, to perform the operation inplace on the original object.\n",
      "\n",
      "\n",
      "  data[\"DurationOfPitch\"].replace(np.nan,median,inplace=True)\n"
     ]
    }
   ],
   "source": [
    "median = data[\"DurationOfPitch\"].median()    #replace by median because there are outliers in this column\n",
    "data[\"DurationOfPitch\"].replace(np.nan,median,inplace=True)\n"
   ]
  },
  {
   "cell_type": "code",
   "execution_count": 44,
   "id": "3b14f1a5",
   "metadata": {},
   "outputs": [
    {
     "name": "stderr",
     "output_type": "stream",
     "text": [
      "C:\\Users\\dell\\AppData\\Local\\Temp\\ipykernel_16144\\2150786654.py:2: FutureWarning: A value is trying to be set on a copy of a DataFrame or Series through chained assignment using an inplace method.\n",
      "The behavior will change in pandas 3.0. This inplace method will never work because the intermediate object on which we are setting values always behaves as a copy.\n",
      "\n",
      "For example, when doing 'df[col].method(value, inplace=True)', try using 'df.method({col: value}, inplace=True)' or df[col] = df[col].method(value) instead, to perform the operation inplace on the original object.\n",
      "\n",
      "\n",
      "  data[\"NumberOfFollowups\"].replace(np.nan,median,inplace=True)\n"
     ]
    }
   ],
   "source": [
    "median = data[\"NumberOfFollowups\"].median()    #replace by median because there are outliers in this column\n",
    "data[\"NumberOfFollowups\"].replace(np.nan,median,inplace=True)"
   ]
  },
  {
   "cell_type": "code",
   "execution_count": 45,
   "id": "2d967708",
   "metadata": {},
   "outputs": [
    {
     "name": "stderr",
     "output_type": "stream",
     "text": [
      "C:\\Users\\dell\\AppData\\Local\\Temp\\ipykernel_16144\\3010446884.py:2: FutureWarning: A value is trying to be set on a copy of a DataFrame or Series through chained assignment using an inplace method.\n",
      "The behavior will change in pandas 3.0. This inplace method will never work because the intermediate object on which we are setting values always behaves as a copy.\n",
      "\n",
      "For example, when doing 'df[col].method(value, inplace=True)', try using 'df.method({col: value}, inplace=True)' or df[col] = df[col].method(value) instead, to perform the operation inplace on the original object.\n",
      "\n",
      "\n",
      "  data[\"NumberOfTrips\"].replace(np.nan,median,inplace=True)\n"
     ]
    }
   ],
   "source": [
    "median = data[\"NumberOfTrips\"].median()    #replace by median because there are outliers in this column\n",
    "data[\"NumberOfTrips\"].replace(np.nan,median,inplace=True)"
   ]
  },
  {
   "cell_type": "code",
   "execution_count": 46,
   "id": "ae296584",
   "metadata": {},
   "outputs": [
    {
     "name": "stderr",
     "output_type": "stream",
     "text": [
      "C:\\Users\\dell\\AppData\\Local\\Temp\\ipykernel_16144\\1585534299.py:2: FutureWarning: A value is trying to be set on a copy of a DataFrame or Series through chained assignment using an inplace method.\n",
      "The behavior will change in pandas 3.0. This inplace method will never work because the intermediate object on which we are setting values always behaves as a copy.\n",
      "\n",
      "For example, when doing 'df[col].method(value, inplace=True)', try using 'df.method({col: value}, inplace=True)' or df[col] = df[col].method(value) instead, to perform the operation inplace on the original object.\n",
      "\n",
      "\n",
      "  data[\"MonthlyIncome\"].replace(np.nan,median,inplace=True)\n"
     ]
    }
   ],
   "source": [
    "median = data[\"MonthlyIncome\"].median()    #replace by median because there are outliers in this column\n",
    "data[\"MonthlyIncome\"].replace(np.nan,median,inplace=True)"
   ]
  },
  {
   "cell_type": "code",
   "execution_count": 47,
   "id": "942cf443",
   "metadata": {},
   "outputs": [
    {
     "name": "stderr",
     "output_type": "stream",
     "text": [
      "C:\\Users\\dell\\AppData\\Local\\Temp\\ipykernel_16144\\4054386851.py:2: FutureWarning: A value is trying to be set on a copy of a DataFrame or Series through chained assignment using an inplace method.\n",
      "The behavior will change in pandas 3.0. This inplace method will never work because the intermediate object on which we are setting values always behaves as a copy.\n",
      "\n",
      "For example, when doing 'df[col].method(value, inplace=True)', try using 'df.method({col: value}, inplace=True)' or df[col] = df[col].method(value) instead, to perform the operation inplace on the original object.\n",
      "\n",
      "\n",
      "  data[\"Age\"].replace(np.nan,mean,inplace=True)\n"
     ]
    }
   ],
   "source": [
    "mean = data[\"Age\"].mean()    #replace by mean\n",
    "data[\"Age\"].replace(np.nan,mean,inplace=True)"
   ]
  },
  {
   "cell_type": "code",
   "execution_count": 48,
   "id": "f24f4e25",
   "metadata": {},
   "outputs": [
    {
     "name": "stderr",
     "output_type": "stream",
     "text": [
      "C:\\Users\\dell\\AppData\\Local\\Temp\\ipykernel_16144\\1406760560.py:2: FutureWarning: A value is trying to be set on a copy of a DataFrame or Series through chained assignment using an inplace method.\n",
      "The behavior will change in pandas 3.0. This inplace method will never work because the intermediate object on which we are setting values always behaves as a copy.\n",
      "\n",
      "For example, when doing 'df[col].method(value, inplace=True)', try using 'df.method({col: value}, inplace=True)' or df[col] = df[col].method(value) instead, to perform the operation inplace on the original object.\n",
      "\n",
      "\n",
      "  data[\"PreferredPropertyStar\"].replace(np.nan,mean,inplace=True)\n"
     ]
    }
   ],
   "source": [
    "mean = data[\"PreferredPropertyStar\"].mean()    #replace by mean\n",
    "data[\"PreferredPropertyStar\"].replace(np.nan,mean,inplace=True)"
   ]
  },
  {
   "cell_type": "code",
   "execution_count": 49,
   "id": "75679b38",
   "metadata": {},
   "outputs": [
    {
     "name": "stderr",
     "output_type": "stream",
     "text": [
      "C:\\Users\\dell\\AppData\\Local\\Temp\\ipykernel_16144\\2400043012.py:2: FutureWarning: A value is trying to be set on a copy of a DataFrame or Series through chained assignment using an inplace method.\n",
      "The behavior will change in pandas 3.0. This inplace method will never work because the intermediate object on which we are setting values always behaves as a copy.\n",
      "\n",
      "For example, when doing 'df[col].method(value, inplace=True)', try using 'df.method({col: value}, inplace=True)' or df[col] = df[col].method(value) instead, to perform the operation inplace on the original object.\n",
      "\n",
      "\n",
      "  data[\"NumberOfChildrenVisiting\"].replace(np.nan,mean,inplace=True)\n"
     ]
    }
   ],
   "source": [
    "mean = data[\"NumberOfChildrenVisiting\"].mean()    #replace by mean\n",
    "data[\"NumberOfChildrenVisiting\"].replace(np.nan,mean,inplace=True)"
   ]
  },
  {
   "cell_type": "code",
   "execution_count": 50,
   "id": "19e1086b",
   "metadata": {},
   "outputs": [],
   "source": [
    "data.dropna(subset = ['TypeofContact'], inplace=True, axis=0)"
   ]
  },
  {
   "cell_type": "code",
   "execution_count": 51,
   "id": "bbaa647a",
   "metadata": {},
   "outputs": [
    {
     "data": {
      "text/plain": [
       "CustomerID                  0\n",
       "ProdTaken                   0\n",
       "Age                         0\n",
       "TypeofContact               0\n",
       "CityTier                    0\n",
       "DurationOfPitch             0\n",
       "Occupation                  0\n",
       "Gender                      0\n",
       "NumberOfPersonVisiting      0\n",
       "NumberOfFollowups           0\n",
       "ProductPitched              0\n",
       "PreferredPropertyStar       0\n",
       "MaritalStatus               0\n",
       "NumberOfTrips               0\n",
       "Passport                    0\n",
       "PitchSatisfactionScore      0\n",
       "OwnCar                      0\n",
       "NumberOfChildrenVisiting    0\n",
       "Designation                 0\n",
       "MonthlyIncome               0\n",
       "dtype: int64"
      ]
     },
     "execution_count": 51,
     "metadata": {},
     "output_type": "execute_result"
    }
   ],
   "source": [
    "data.isnull().sum()"
   ]
  },
  {
   "cell_type": "code",
   "execution_count": null,
   "id": "067d062b",
   "metadata": {},
   "outputs": [],
   "source": []
  },
  {
   "cell_type": "code",
   "execution_count": 52,
   "id": "1f2161bc",
   "metadata": {},
   "outputs": [
    {
     "data": {
      "text/plain": [
       "['CustomerID',\n",
       " 'Age',\n",
       " 'CityTier',\n",
       " 'DurationOfPitch',\n",
       " 'NumberOfPersonVisiting',\n",
       " 'NumberOfFollowups',\n",
       " 'PreferredPropertyStar',\n",
       " 'NumberOfTrips',\n",
       " 'Passport',\n",
       " 'PitchSatisfactionScore',\n",
       " 'OwnCar',\n",
       " 'NumberOfChildrenVisiting',\n",
       " 'MonthlyIncome']"
      ]
     },
     "execution_count": 52,
     "metadata": {},
     "output_type": "execute_result"
    }
   ],
   "source": [
    "numerical_columns = data.select_dtypes(include=['number']).columns.tolist()\n",
    "if 'ProdTaken' in numerical_columns:\n",
    "    numerical_columns.remove('ProdTaken')\n",
    "numerical_columns"
   ]
  },
  {
   "cell_type": "code",
   "execution_count": 53,
   "id": "9a9f2f9b",
   "metadata": {},
   "outputs": [
    {
     "data": {
      "image/png": "[encoded data removed]",
      "text/plain": [
       "<Figure size 1200x600 with 1 Axes>"
      ]
     },
     "metadata": {},
     "output_type": "display_data"
    },
    {
     "data": {
      "image/png": "[encoded data removed]",
      "text/plain": [
       "<Figure size 1200x600 with 1 Axes>"
      ]
     },
     "metadata": {},
     "output_type": "display_data"
    },
    {
     "data": {
      "image/png": "[encoded data removed]",
      "text/plain": [
       "<Figure size 1200x600 with 1 Axes>"
      ]
     },
     "metadata": {},
     "output_type": "display_data"
    },
    {
     "data": {
      "image/png": "[encoded data removed]",
      "text/plain": [
       "<Figure size 1200x600 with 1 Axes>"
      ]
     },
     "metadata": {},
     "output_type": "display_data"
    },
    {
     "data": {
      "image/png": "[encoded data removed]",
      "text/plain": [
       "<Figure size 1200x600 with 1 Axes>"
      ]
     },
     "metadata": {},
     "output_type": "display_data"
    },
    {
     "data": {
      "image/png": "[encoded data removed]",
      "text/plain": [
       "<Figure size 1200x600 with 1 Axes>"
      ]
     },
     "metadata": {},
     "output_type": "display_data"
    }
   ],
   "source": [
    "categorical_columns = data.select_dtypes(include=['object', 'category']).columns.tolist()    #boxplot for all the categorical columns\n",
    "for col in categorical_columns:\n",
    "    plt.figure(figsize=(12, 6))\n",
    "    sns.boxplot(x=col, y='ProdTaken', data=data)\n",
    "    plt.title(f'Box plot of Price vs {col}')\n",
    "    plt.xticks(rotation=45)\n",
    "    plt.show()"
   ]
  },
  {
   "cell_type": "code",
   "execution_count": 54,
   "id": "9a4665da",
   "metadata": {},
   "outputs": [
    {
     "name": "stderr",
     "output_type": "stream",
     "text": [
      "c:\\Users\\dell\\Desktop\\MLproject_TravelPackagePurchasePrediction\\venv\\Lib\\site-packages\\scipy\\stats\\_axis_nan_policy.py:567: SmallSampleWarning: all input arrays have length 1.  f_oneway requires that at least one input has length greater than 1.\n",
      "  if is_too_small(samples, kwds):\n",
      "C:\\Users\\dell\\AppData\\Local\\Temp\\ipykernel_16144\\2565568335.py:4: SmallSampleWarning: One or more sample arguments is too small; all returned values will be NaN. See documentation for sample size requirements.\n",
      "  f_val, p_val = stats.f_oneway(*groups)\n"
     ]
    },
    {
     "name": "stdout",
     "output_type": "stream",
     "text": [
      "ANOVA Results:\n",
      "\n",
      "                             F-Value        P-Value\n",
      "CustomerID                       NaN            NaN\n",
      "Age                         7.474605   1.745940e-43\n",
      "CityTier                   19.269487   4.617158e-09\n",
      "DurationOfPitch             2.654193   9.154094e-07\n",
      "NumberOfPersonVisiting      2.482836   4.174063e-02\n",
      "NumberOfFollowups          16.040396   1.031537e-15\n",
      "PreferredPropertyStar      16.394162   1.343212e-10\n",
      "NumberOfTrips               4.482442   9.066243e-07\n",
      "Passport                  355.419939   1.423330e-76\n",
      "PitchSatisfactionScore      6.384099   4.037677e-05\n",
      "OwnCar                      0.702363   4.020321e-01\n",
      "NumberOfChildrenVisiting    0.854237   4.906953e-01\n",
      "MonthlyIncome               3.111524  4.211048e-163\n"
     ]
    }
   ],
   "source": [
    "anova_results = {}\n",
    "for col in numerical_columns:\n",
    "    groups = [data['ProdTaken'][data[col] == level] for level in data[col].unique()]\n",
    "    f_val, p_val = stats.f_oneway(*groups)\n",
    "    anova_results[col] = {'F-Value': f_val, 'P-Value': p_val}\n",
    "    anova_df = pd.DataFrame(anova_results).T\n",
    "print(\"ANOVA Results:\\n\")\n",
    "print(anova_df)"
   ]
  },
  {
   "cell_type": "code",
   "execution_count": null,
   "id": "bba56fc1",
   "metadata": {},
   "outputs": [],
   "source": []
  },
  {
   "cell_type": "code",
   "execution_count": 55,
   "id": "05aa44de",
   "metadata": {},
   "outputs": [
    {
     "name": "stdout",
     "output_type": "stream",
     "text": [
      "Column: TypeofContact\n",
      "Chi-Square Stat: 11.430425385164082, P-value: 0.0007225114229346287, DOF: 1\n",
      "\n",
      "Column: Occupation\n",
      "Chi-Square Stat: 33.63774006964942, P-value: 2.3625989147047183e-07, DOF: 3\n",
      "\n",
      "Column: Gender\n",
      "Chi-Square Stat: 4.554274766749482, P-value: 0.10257742667411256, DOF: 2\n",
      "\n",
      "Column: ProductPitched\n",
      "Chi-Square Stat: 257.97921397395925, P-value: 1.2428940054272477e-54, DOF: 4\n",
      "\n",
      "Column: MaritalStatus\n",
      "Chi-Square Stat: 191.0339790711489, P-value: 3.649637167516824e-41, DOF: 3\n",
      "\n",
      "Column: Designation\n",
      "Chi-Square Stat: 257.97921397395925, P-value: 1.2428940054272477e-54, DOF: 4\n",
      "\n"
     ]
    }
   ],
   "source": [
    "# Function to apply Chi-Square test\n",
    "def chi_square_test(data, target_column, categorical_columns):\n",
    "    results = {}\n",
    "    for col in categorical_columns:\n",
    "        contingency_table = pd.crosstab(data[col], data[target_column])\n",
    "        \n",
    "        # Apply Chi-Square test\n",
    "        chi2, p_value, dof, expected = chi2_contingency(contingency_table)\n",
    "        \n",
    "        # Storing the result in a dictionary\n",
    "        results[col] = {'chi2_stat': chi2, 'p_value': p_value, 'dof': dof}\n",
    "        \n",
    "    return results\n",
    "\n",
    "# Run the Chi-Square test on your categorical columns\n",
    "results = chi_square_test(data, 'ProdTaken', categorical_columns)\n",
    "\n",
    "# Display the results\n",
    "for col, result in results.items():\n",
    "    print(f\"Column: {col}\")\n",
    "    print(f\"Chi-Square Stat: {result['chi2_stat']}, P-value: {result['p_value']}, DOF: {result['dof']}\\n\")"
   ]
  },
  {
   "cell_type": "markdown",
   "id": "5f820ac9",
   "metadata": {},
   "source": [
    "### Important categorical Features include :- \n",
    "Occupation , ProductPitched , MaritalStatus , Designation\n",
    "### Important Numerical Features inlcude :- \n",
    "Age , NumberOfFollowups ,Passport ,MonthlyIncome  ,CityTier, PreferredPropertyStar"
   ]
  },
  {
   "cell_type": "code",
   "execution_count": 56,
   "id": "ecc3a090",
   "metadata": {},
   "outputs": [
    {
     "name": "stdout",
     "output_type": "stream",
     "text": [
      "Column Name: TypeofContact\n",
      "TypeofContact\n",
      "Self Enquiry       3444\n",
      "Company Invited    1419\n",
      "Name: count, dtype: int64\n",
      "<<<<<<<<<<<<<<<<<<<<<<<<<<<<<<<<<<<<<<<<<<<<<<<<<<<<<<<<<<<<\n",
      "<<<<<<<<<<<<<<<<<<<<<<<<<<<<<<<<<<<<<<<<<<<<<<<<<<<<<<<<<<<<\n",
      "Column Name: Occupation\n",
      "Occupation\n",
      "Salaried          2363\n",
      "Small Business    2064\n",
      "Large Business     434\n",
      "Free Lancer          2\n",
      "Name: count, dtype: int64\n",
      "<<<<<<<<<<<<<<<<<<<<<<<<<<<<<<<<<<<<<<<<<<<<<<<<<<<<<<<<<<<<\n",
      "<<<<<<<<<<<<<<<<<<<<<<<<<<<<<<<<<<<<<<<<<<<<<<<<<<<<<<<<<<<<\n",
      "Column Name: Gender\n",
      "Gender\n",
      "Male       2901\n",
      "Female     1807\n",
      "Fe Male     155\n",
      "Name: count, dtype: int64\n",
      "<<<<<<<<<<<<<<<<<<<<<<<<<<<<<<<<<<<<<<<<<<<<<<<<<<<<<<<<<<<<\n",
      "<<<<<<<<<<<<<<<<<<<<<<<<<<<<<<<<<<<<<<<<<<<<<<<<<<<<<<<<<<<<\n",
      "Column Name: ProductPitched\n",
      "ProductPitched\n",
      "Basic           1832\n",
      "Deluxe          1717\n",
      "Standard         742\n",
      "Super Deluxe     342\n",
      "King             230\n",
      "Name: count, dtype: int64\n",
      "<<<<<<<<<<<<<<<<<<<<<<<<<<<<<<<<<<<<<<<<<<<<<<<<<<<<<<<<<<<<\n",
      "<<<<<<<<<<<<<<<<<<<<<<<<<<<<<<<<<<<<<<<<<<<<<<<<<<<<<<<<<<<<\n",
      "Column Name: MaritalStatus\n",
      "MaritalStatus\n",
      "Married      2325\n",
      "Divorced      944\n",
      "Single        912\n",
      "Unmarried     682\n",
      "Name: count, dtype: int64\n",
      "<<<<<<<<<<<<<<<<<<<<<<<<<<<<<<<<<<<<<<<<<<<<<<<<<<<<<<<<<<<<\n",
      "<<<<<<<<<<<<<<<<<<<<<<<<<<<<<<<<<<<<<<<<<<<<<<<<<<<<<<<<<<<<\n",
      "Column Name: Designation\n",
      "Designation\n",
      "Executive         1832\n",
      "Manager           1717\n",
      "Senior Manager     742\n",
      "AVP                342\n",
      "VP                 230\n",
      "Name: count, dtype: int64\n",
      "<<<<<<<<<<<<<<<<<<<<<<<<<<<<<<<<<<<<<<<<<<<<<<<<<<<<<<<<<<<<\n",
      "<<<<<<<<<<<<<<<<<<<<<<<<<<<<<<<<<<<<<<<<<<<<<<<<<<<<<<<<<<<<\n"
     ]
    }
   ],
   "source": [
    "for i in categorical_columns:\n",
    "    print(f\"Column Name: {i}\")\n",
    "    print(data[i].value_counts())\n",
    "    print(\"<<\"*30)\n",
    "    print(\"<\"*60)"
   ]
  },
  {
   "cell_type": "markdown",
   "id": "c71a9473",
   "metadata": {},
   "source": [
    "here unmarried and single are same\n",
    "female and fe male are same so we need to handle them "
   ]
  },
  {
   "cell_type": "code",
   "execution_count": 57,
   "id": "5341d873",
   "metadata": {},
   "outputs": [],
   "source": [
    "data[\"Gender\"]=np.where(data[\"Gender\"]==\"Fe Male\",\"Female\",data[\"Gender\"])"
   ]
  },
  {
   "cell_type": "code",
   "execution_count": 58,
   "id": "5cfc1d10",
   "metadata": {},
   "outputs": [],
   "source": [
    "data[\"MaritalStatus\"]=np.where(data[\"MaritalStatus\"]==\"Single\",\"Unmarried\",data[\"MaritalStatus\"])"
   ]
  },
  {
   "cell_type": "code",
   "execution_count": 59,
   "id": "359ff815",
   "metadata": {},
   "outputs": [
    {
     "data": {
      "image/png": "[encoded data removed]",
      "text/plain": [
       "<Figure size 1000x1000 with 6 Axes>"
      ]
     },
     "metadata": {},
     "output_type": "display_data"
    }
   ],
   "source": [
    "fig, ax= plt.subplots(6, figsize=(10,10), facecolor='w', edgecolor='k')\n",
    "for i in range(len(categorical_columns)):\n",
    "    sns.countplot(y=data[categorical_columns[i]],ax=ax[i])"
   ]
  },
  {
   "cell_type": "markdown",
   "id": "c606f892",
   "metadata": {},
   "source": [
    "### Observation:\n",
    "1. **Self Enquiry** is has been done by most of the customers\n",
    "2. Most of the Customers are **Salaried and Small Bussiness**.\n",
    "3. **Male** customer are **more** than **female** customers\n",
    "4. From the Productpitched **Basic** has been taken most wheather **King** very less.\n",
    "5. Most of the Customer are **Married**.\n",
    "6. Destination of Most of the Customer is **Executive** and **Manager** and Less is **VP**."
   ]
  },
  {
   "cell_type": "code",
   "execution_count": 60,
   "id": "ce326175",
   "metadata": {},
   "outputs": [
    {
     "name": "stdout",
     "output_type": "stream",
     "text": [
      "ProdTaken  TypeofContact  \n",
      "0          Company Invited    1109\n",
      "           Self Enquiry       2837\n",
      "1          Company Invited     310\n",
      "           Self Enquiry        607\n",
      "dtype: int64\n",
      ">>>>>>>>>>>>>>>>>>>>>>>>>>>>>>>>>>>>>>>>>>>>>>>>>>>>>>>>>>>>>>>>>>>>>>>>>>>>>>>>\n",
      "ProdTaken  Occupation    \n",
      "0          Large Business     314\n",
      "           Salaried          1950\n",
      "           Small Business    1682\n",
      "1          Free Lancer          2\n",
      "           Large Business     120\n",
      "           Salaried           413\n",
      "           Small Business     382\n",
      "dtype: int64\n",
      ">>>>>>>>>>>>>>>>>>>>>>>>>>>>>>>>>>>>>>>>>>>>>>>>>>>>>>>>>>>>>>>>>>>>>>>>>>>>>>>>\n",
      "ProdTaken  Gender\n",
      "0          Female    1620\n",
      "           Male      2326\n",
      "1          Female     342\n",
      "           Male       575\n",
      "dtype: int64\n",
      ">>>>>>>>>>>>>>>>>>>>>>>>>>>>>>>>>>>>>>>>>>>>>>>>>>>>>>>>>>>>>>>>>>>>>>>>>>>>>>>>\n",
      "ProdTaken  ProductPitched\n",
      "0          Basic             1283\n",
      "           Deluxe            1513\n",
      "           King               210\n",
      "           Standard           618\n",
      "           Super Deluxe       322\n",
      "1          Basic              549\n",
      "           Deluxe             204\n",
      "           King                20\n",
      "           Standard           124\n",
      "           Super Deluxe        20\n",
      "dtype: int64\n",
      ">>>>>>>>>>>>>>>>>>>>>>>>>>>>>>>>>>>>>>>>>>>>>>>>>>>>>>>>>>>>>>>>>>>>>>>>>>>>>>>>\n",
      "ProdTaken  MaritalStatus\n",
      "0          Divorced          821\n",
      "           Married          1999\n",
      "           Unmarried        1126\n",
      "1          Divorced          123\n",
      "           Married           326\n",
      "           Unmarried         468\n",
      "dtype: int64\n",
      ">>>>>>>>>>>>>>>>>>>>>>>>>>>>>>>>>>>>>>>>>>>>>>>>>>>>>>>>>>>>>>>>>>>>>>>>>>>>>>>>\n",
      "ProdTaken  Designation   \n",
      "0          AVP                322\n",
      "           Executive         1283\n",
      "           Manager           1513\n",
      "           Senior Manager     618\n",
      "           VP                 210\n",
      "1          AVP                 20\n",
      "           Executive          549\n",
      "           Manager            204\n",
      "           Senior Manager     124\n",
      "           VP                  20\n",
      "dtype: int64\n",
      ">>>>>>>>>>>>>>>>>>>>>>>>>>>>>>>>>>>>>>>>>>>>>>>>>>>>>>>>>>>>>>>>>>>>>>>>>>>>>>>>\n"
     ]
    }
   ],
   "source": [
    "for i in range(len(categorical_columns)):\n",
    "    print(data.groupby([\"ProdTaken\",categorical_columns[i]]).size())\n",
    "    print(\">\"*80)"
   ]
  },
  {
   "cell_type": "code",
   "execution_count": 61,
   "id": "e6874e66",
   "metadata": {},
   "outputs": [
    {
     "name": "stdout",
     "output_type": "stream",
     "text": [
      "   CustomerID  ProdTaken        Age  CityTier  DurationOfPitch  Gender  \\\n",
      "0      200000          1  41.000000         3              6.0       0   \n",
      "1      200001          0  49.000000         1             14.0       1   \n",
      "2      200002          1  37.000000         1              8.0       1   \n",
      "3      200003          0  33.000000         1              9.0       0   \n",
      "4      200004          0  37.622265         1              8.0       1   \n",
      "\n",
      "   NumberOfPersonVisiting  NumberOfFollowups  PreferredPropertyStar  \\\n",
      "0                       3                3.0                    3.0   \n",
      "1                       3                4.0                    4.0   \n",
      "2                       3                4.0                    3.0   \n",
      "3                       2                3.0                    3.0   \n",
      "4                       2                3.0                    4.0   \n",
      "\n",
      "   NumberOfTrips  ...  ProductPitched_Deluxe  ProductPitched_King  \\\n",
      "0            1.0  ...                   True                False   \n",
      "1            2.0  ...                   True                False   \n",
      "2            7.0  ...                  False                False   \n",
      "3            2.0  ...                  False                False   \n",
      "4            1.0  ...                  False                False   \n",
      "\n",
      "   ProductPitched_Standard  ProductPitched_Super Deluxe  \\\n",
      "0                    False                        False   \n",
      "1                    False                        False   \n",
      "2                    False                        False   \n",
      "3                    False                        False   \n",
      "4                    False                        False   \n",
      "\n",
      "   MaritalStatus_Married  MaritalStatus_Unmarried  Designation_Executive  \\\n",
      "0                  False                     True                  False   \n",
      "1                  False                    False                  False   \n",
      "2                  False                     True                   True   \n",
      "3                  False                    False                   True   \n",
      "4                  False                    False                   True   \n",
      "\n",
      "   Designation_Manager  Designation_Senior Manager  Designation_VP  \n",
      "0                 True                       False           False  \n",
      "1                 True                       False           False  \n",
      "2                False                       False           False  \n",
      "3                False                       False           False  \n",
      "4                False                       False           False  \n",
      "\n",
      "[5 rows x 29 columns]\n"
     ]
    }
   ],
   "source": [
    "df_encoded = data.copy()\n",
    "binary_columns = ['Gender','ProdTaken']   #Binary encoding \n",
    "label_encoder = LabelEncoder()\n",
    "for col in binary_columns:\n",
    "    df_encoded[col] = label_encoder.fit_transform(df_encoded[col])\n",
    "\n",
    "# One-Hot Encoding other categorical columns\n",
    "categorical_columns = ['TypeofContact', 'Occupation', 'ProductPitched', \n",
    "                       'MaritalStatus', 'Designation']\n",
    "\n",
    "df_encoded = pd.get_dummies(df_encoded, columns=categorical_columns, drop_first=True)\n",
    "\n",
    "# Display the first few rows of the encoded dataframe\n",
    "print(df_encoded.head())\n",
    "data = df_encoded"
   ]
  },
  {
   "cell_type": "code",
   "execution_count": 62,
   "id": "7c64b648",
   "metadata": {
    "scrolled": false
   },
   "outputs": [
    {
     "name": "stdout",
     "output_type": "stream",
     "text": [
      "Decision Tree: Best parameters - {'max_depth': 20}, Accuracy - 0.8972250770811921\n",
      "Random Forest: Best parameters - {'max_depth': 20, 'n_estimators': 200}, Accuracy - 0.9064748201438849\n",
      "KNN: Best parameters - {'n_neighbors': 9}, Accuracy - 0.7923946557040082\n",
      "SVM: Best parameters - {'C': 0.1, 'kernel': 'linear'}, Accuracy - 0.7954779033915724\n"
     ]
    },
    {
     "name": "stderr",
     "output_type": "stream",
     "text": [
      "c:\\Users\\dell\\Desktop\\MLproject_TravelPackagePurchasePrediction\\venv\\Lib\\site-packages\\sklearn\\linear_model\\_logistic.py:469: ConvergenceWarning: lbfgs failed to converge (status=1):\n",
      "STOP: TOTAL NO. of ITERATIONS REACHED LIMIT.\n",
      "\n",
      "Increase the number of iterations (max_iter) or scale the data as shown in:\n",
      "    https://scikit-learn.org/stable/modules/preprocessing.html\n",
      "Please also refer to the documentation for alternative solver options:\n",
      "    https://scikit-learn.org/stable/modules/linear_model.html#logistic-regression\n",
      "  n_iter_i = _check_optimize_result(\n",
      "c:\\Users\\dell\\Desktop\\MLproject_TravelPackagePurchasePrediction\\venv\\Lib\\site-packages\\sklearn\\linear_model\\_logistic.py:469: ConvergenceWarning: lbfgs failed to converge (status=1):\n",
      "STOP: TOTAL NO. of ITERATIONS REACHED LIMIT.\n",
      "\n",
      "Increase the number of iterations (max_iter) or scale the data as shown in:\n",
      "    https://scikit-learn.org/stable/modules/preprocessing.html\n",
      "Please also refer to the documentation for alternative solver options:\n",
      "    https://scikit-learn.org/stable/modules/linear_model.html#logistic-regression\n",
      "  n_iter_i = _check_optimize_result(\n",
      "c:\\Users\\dell\\Desktop\\MLproject_TravelPackagePurchasePrediction\\venv\\Lib\\site-packages\\sklearn\\linear_model\\_logistic.py:469: ConvergenceWarning: lbfgs failed to converge (status=1):\n",
      "STOP: TOTAL NO. of ITERATIONS REACHED LIMIT.\n",
      "\n",
      "Increase the number of iterations (max_iter) or scale the data as shown in:\n",
      "    https://scikit-learn.org/stable/modules/preprocessing.html\n",
      "Please also refer to the documentation for alternative solver options:\n",
      "    https://scikit-learn.org/stable/modules/linear_model.html#logistic-regression\n",
      "  n_iter_i = _check_optimize_result(\n",
      "c:\\Users\\dell\\Desktop\\MLproject_TravelPackagePurchasePrediction\\venv\\Lib\\site-packages\\sklearn\\linear_model\\_logistic.py:469: ConvergenceWarning: lbfgs failed to converge (status=1):\n",
      "STOP: TOTAL NO. of ITERATIONS REACHED LIMIT.\n",
      "\n",
      "Increase the number of iterations (max_iter) or scale the data as shown in:\n",
      "    https://scikit-learn.org/stable/modules/preprocessing.html\n",
      "Please also refer to the documentation for alternative solver options:\n",
      "    https://scikit-learn.org/stable/modules/linear_model.html#logistic-regression\n",
      "  n_iter_i = _check_optimize_result(\n",
      "c:\\Users\\dell\\Desktop\\MLproject_TravelPackagePurchasePrediction\\venv\\Lib\\site-packages\\sklearn\\linear_model\\_logistic.py:469: ConvergenceWarning: lbfgs failed to converge (status=1):\n",
      "STOP: TOTAL NO. of ITERATIONS REACHED LIMIT.\n",
      "\n",
      "Increase the number of iterations (max_iter) or scale the data as shown in:\n",
      "    https://scikit-learn.org/stable/modules/preprocessing.html\n",
      "Please also refer to the documentation for alternative solver options:\n",
      "    https://scikit-learn.org/stable/modules/linear_model.html#logistic-regression\n",
      "  n_iter_i = _check_optimize_result(\n",
      "c:\\Users\\dell\\Desktop\\MLproject_TravelPackagePurchasePrediction\\venv\\Lib\\site-packages\\sklearn\\linear_model\\_logistic.py:469: ConvergenceWarning: lbfgs failed to converge (status=1):\n",
      "STOP: TOTAL NO. of ITERATIONS REACHED LIMIT.\n",
      "\n",
      "Increase the number of iterations (max_iter) or scale the data as shown in:\n",
      "    https://scikit-learn.org/stable/modules/preprocessing.html\n",
      "Please also refer to the documentation for alternative solver options:\n",
      "    https://scikit-learn.org/stable/modules/linear_model.html#logistic-regression\n",
      "  n_iter_i = _check_optimize_result(\n",
      "c:\\Users\\dell\\Desktop\\MLproject_TravelPackagePurchasePrediction\\venv\\Lib\\site-packages\\sklearn\\linear_model\\_logistic.py:469: ConvergenceWarning: lbfgs failed to converge (status=1):\n",
      "STOP: TOTAL NO. of ITERATIONS REACHED LIMIT.\n",
      "\n",
      "Increase the number of iterations (max_iter) or scale the data as shown in:\n",
      "    https://scikit-learn.org/stable/modules/preprocessing.html\n",
      "Please also refer to the documentation for alternative solver options:\n",
      "    https://scikit-learn.org/stable/modules/linear_model.html#logistic-regression\n",
      "  n_iter_i = _check_optimize_result(\n",
      "c:\\Users\\dell\\Desktop\\MLproject_TravelPackagePurchasePrediction\\venv\\Lib\\site-packages\\sklearn\\linear_model\\_logistic.py:469: ConvergenceWarning: lbfgs failed to converge (status=1):\n",
      "STOP: TOTAL NO. of ITERATIONS REACHED LIMIT.\n",
      "\n",
      "Increase the number of iterations (max_iter) or scale the data as shown in:\n",
      "    https://scikit-learn.org/stable/modules/preprocessing.html\n",
      "Please also refer to the documentation for alternative solver options:\n",
      "    https://scikit-learn.org/stable/modules/linear_model.html#logistic-regression\n",
      "  n_iter_i = _check_optimize_result(\n",
      "c:\\Users\\dell\\Desktop\\MLproject_TravelPackagePurchasePrediction\\venv\\Lib\\site-packages\\sklearn\\linear_model\\_logistic.py:469: ConvergenceWarning: lbfgs failed to converge (status=1):\n",
      "STOP: TOTAL NO. of ITERATIONS REACHED LIMIT.\n",
      "\n",
      "Increase the number of iterations (max_iter) or scale the data as shown in:\n",
      "    https://scikit-learn.org/stable/modules/preprocessing.html\n",
      "Please also refer to the documentation for alternative solver options:\n",
      "    https://scikit-learn.org/stable/modules/linear_model.html#logistic-regression\n",
      "  n_iter_i = _check_optimize_result(\n",
      "c:\\Users\\dell\\Desktop\\MLproject_TravelPackagePurchasePrediction\\venv\\Lib\\site-packages\\sklearn\\linear_model\\_logistic.py:469: ConvergenceWarning: lbfgs failed to converge (status=1):\n",
      "STOP: TOTAL NO. of ITERATIONS REACHED LIMIT.\n",
      "\n",
      "Increase the number of iterations (max_iter) or scale the data as shown in:\n",
      "    https://scikit-learn.org/stable/modules/preprocessing.html\n",
      "Please also refer to the documentation for alternative solver options:\n",
      "    https://scikit-learn.org/stable/modules/linear_model.html#logistic-regression\n",
      "  n_iter_i = _check_optimize_result(\n",
      "c:\\Users\\dell\\Desktop\\MLproject_TravelPackagePurchasePrediction\\venv\\Lib\\site-packages\\sklearn\\linear_model\\_logistic.py:469: ConvergenceWarning: lbfgs failed to converge (status=1):\n",
      "STOP: TOTAL NO. of ITERATIONS REACHED LIMIT.\n",
      "\n",
      "Increase the number of iterations (max_iter) or scale the data as shown in:\n",
      "    https://scikit-learn.org/stable/modules/preprocessing.html\n",
      "Please also refer to the documentation for alternative solver options:\n",
      "    https://scikit-learn.org/stable/modules/linear_model.html#logistic-regression\n",
      "  n_iter_i = _check_optimize_result(\n",
      "c:\\Users\\dell\\Desktop\\MLproject_TravelPackagePurchasePrediction\\venv\\Lib\\site-packages\\sklearn\\linear_model\\_logistic.py:469: ConvergenceWarning: lbfgs failed to converge (status=1):\n",
      "STOP: TOTAL NO. of ITERATIONS REACHED LIMIT.\n",
      "\n",
      "Increase the number of iterations (max_iter) or scale the data as shown in:\n",
      "    https://scikit-learn.org/stable/modules/preprocessing.html\n",
      "Please also refer to the documentation for alternative solver options:\n",
      "    https://scikit-learn.org/stable/modules/linear_model.html#logistic-regression\n",
      "  n_iter_i = _check_optimize_result(\n",
      "c:\\Users\\dell\\Desktop\\MLproject_TravelPackagePurchasePrediction\\venv\\Lib\\site-packages\\sklearn\\linear_model\\_logistic.py:469: ConvergenceWarning: lbfgs failed to converge (status=1):\n",
      "STOP: TOTAL NO. of ITERATIONS REACHED LIMIT.\n",
      "\n",
      "Increase the number of iterations (max_iter) or scale the data as shown in:\n",
      "    https://scikit-learn.org/stable/modules/preprocessing.html\n",
      "Please also refer to the documentation for alternative solver options:\n",
      "    https://scikit-learn.org/stable/modules/linear_model.html#logistic-regression\n",
      "  n_iter_i = _check_optimize_result(\n",
      "c:\\Users\\dell\\Desktop\\MLproject_TravelPackagePurchasePrediction\\venv\\Lib\\site-packages\\sklearn\\linear_model\\_logistic.py:469: ConvergenceWarning: lbfgs failed to converge (status=1):\n",
      "STOP: TOTAL NO. of ITERATIONS REACHED LIMIT.\n",
      "\n",
      "Increase the number of iterations (max_iter) or scale the data as shown in:\n",
      "    https://scikit-learn.org/stable/modules/preprocessing.html\n",
      "Please also refer to the documentation for alternative solver options:\n",
      "    https://scikit-learn.org/stable/modules/linear_model.html#logistic-regression\n",
      "  n_iter_i = _check_optimize_result(\n",
      "c:\\Users\\dell\\Desktop\\MLproject_TravelPackagePurchasePrediction\\venv\\Lib\\site-packages\\sklearn\\linear_model\\_logistic.py:469: ConvergenceWarning: lbfgs failed to converge (status=1):\n",
      "STOP: TOTAL NO. of ITERATIONS REACHED LIMIT.\n",
      "\n",
      "Increase the number of iterations (max_iter) or scale the data as shown in:\n",
      "    https://scikit-learn.org/stable/modules/preprocessing.html\n",
      "Please also refer to the documentation for alternative solver options:\n",
      "    https://scikit-learn.org/stable/modules/linear_model.html#logistic-regression\n",
      "  n_iter_i = _check_optimize_result(\n"
     ]
    },
    {
     "name": "stdout",
     "output_type": "stream",
     "text": [
      "Logistic Regression: Best parameters - {'C': 1}, Accuracy - 0.8263103802672148\n"
     ]
    },
    {
     "name": "stderr",
     "output_type": "stream",
     "text": [
      "c:\\Users\\dell\\Desktop\\MLproject_TravelPackagePurchasePrediction\\venv\\Lib\\site-packages\\sklearn\\linear_model\\_logistic.py:469: ConvergenceWarning: lbfgs failed to converge (status=1):\n",
      "STOP: TOTAL NO. of ITERATIONS REACHED LIMIT.\n",
      "\n",
      "Increase the number of iterations (max_iter) or scale the data as shown in:\n",
      "    https://scikit-learn.org/stable/modules/preprocessing.html\n",
      "Please also refer to the documentation for alternative solver options:\n",
      "    https://scikit-learn.org/stable/modules/linear_model.html#logistic-regression\n",
      "  n_iter_i = _check_optimize_result(\n"
     ]
    },
    {
     "data": {
      "text/plain": [
       "{'Decision Tree': {'best_params': {'max_depth': 20},\n",
       "  'accuracy': 0.8972250770811921},\n",
       " 'Random Forest': {'best_params': {'max_depth': 20, 'n_estimators': 200},\n",
       "  'accuracy': 0.9064748201438849},\n",
       " 'KNN': {'best_params': {'n_neighbors': 9}, 'accuracy': 0.7923946557040082},\n",
       " 'SVM': {'best_params': {'C': 0.1, 'kernel': 'linear'},\n",
       "  'accuracy': 0.7954779033915724},\n",
       " 'Logistic Regression': {'best_params': {'C': 1},\n",
       "  'accuracy': 0.8263103802672148}}"
      ]
     },
     "execution_count": 62,
     "metadata": {},
     "output_type": "execute_result"
    }
   ],
   "source": [
    "#  apply decision tree, random forest , KNN , support vector machine , logistic regression using grid cv method \n",
    "\n",
    "X = data.drop('ProdTaken', axis=1)\n",
    "y = data['ProdTaken']\n",
    "\n",
    "X_train, X_test, y_train, y_test = train_test_split(X, y, test_size=0.2, random_state=42)\n",
    "X_train = X_train.astype(np.float64)\n",
    "X_test = X_test.astype(np.float64)\n",
    "X_train = np.array(X_train)\n",
    "X_test = np.array(X_test)\n",
    "y_train = np.array(y_train)\n",
    "y_test = np.array(y_test)\n",
    "\n",
    "from scipy.sparse import issparse\n",
    "\n",
    "if issparse(X_train):\n",
    "    X_train = X_train.toarray()\n",
    "if issparse(X_test):\n",
    "    X_test = X_test.toarray()\n",
    "\n",
    "\n",
    "# Define models and parameter grids\n",
    "models = {\n",
    "    'Decision Tree': (DecisionTreeClassifier(), {'max_depth': [None, 10, 20, 30]}),\n",
    "    'Random Forest': (RandomForestClassifier(), {'n_estimators': [50, 100, 200], 'max_depth': [None, 10, 20]}),\n",
    "    'KNN': (KNeighborsClassifier(), {'n_neighbors': [3, 5, 7, 9]}),\n",
    "    'SVM': (SVC(), {'C': [0.1, 1, 10], 'kernel': ['linear', 'rbf']}),\n",
    "    'Logistic Regression': (LogisticRegression(max_iter=1000), {'C': [0.1, 1, 10]})\n",
    "}\n",
    "\n",
    "\n",
    "results = {}\n",
    "for name, (model, param_grid) in models.items():\n",
    "    grid_search = GridSearchCV(model, param_grid, cv=5, scoring='accuracy',refit= True )\n",
    "    grid_search.fit(X_train, y_train)\n",
    "    y_pred = grid_search.predict(X_test)\n",
    "    accuracy = accuracy_score(y_test, y_pred)\n",
    "    results[name] = {'best_params': grid_search.best_params_, 'accuracy': accuracy}\n",
    "    print(f\"{name}: Best parameters - {grid_search.best_params_}, Accuracy - {accuracy}\")\n",
    "\n",
    "results"
   ]
  },
  {
   "cell_type": "code",
   "execution_count": 63,
   "id": "186f1787",
   "metadata": {},
   "outputs": [
    {
     "name": "stdout",
     "output_type": "stream",
     "text": [
      "Gradient Boosting Classifier Accuracy: 0.8530318602261048\n"
     ]
    }
   ],
   "source": [
    "#Gradient Boosting (Boosting-Based Ensemble)\n",
    "from sklearn.ensemble import GradientBoostingClassifier\n",
    "\n",
    "# Gradient Boosting with specific parameters\n",
    "gb_clf = GradientBoostingClassifier(n_estimators=100, learning_rate=0.1, max_depth=3, random_state=42)\n",
    "\n",
    "# Fit and evaluate the model\n",
    "gb_clf.fit(X_train, y_train)\n",
    "y_pred = gb_clf.predict(X_test)\n",
    "accuracy = accuracy_score(y_test, y_pred)\n",
    "print(f\"Gradient Boosting Classifier Accuracy: {accuracy}\")\n"
   ]
  },
  {
   "cell_type": "code",
   "execution_count": 64,
   "id": "64897dd6",
   "metadata": {},
   "outputs": [
    {
     "name": "stdout",
     "output_type": "stream",
     "text": [
      "Random Forest Accuracy: 0.8674203494347379\n"
     ]
    }
   ],
   "source": [
    "#Random forest (Bagging based esembled learning)\n",
    "from sklearn.ensemble import RandomForestClassifier\n",
    "\n",
    "# Random Forest with specific parameters\n",
    "rf_clf = RandomForestClassifier(n_estimators=100, max_depth=10, random_state=42)\n",
    "\n",
    "# Fit and evaluate the model\n",
    "rf_clf.fit(X_train, y_train)\n",
    "y_pred = rf_clf.predict(X_test)\n",
    "accuracy = accuracy_score(y_test, y_pred)\n",
    "print(f\"Random Forest Accuracy: {accuracy}\")\n"
   ]
  },
  {
   "cell_type": "code",
   "execution_count": 65,
   "id": "ac07271e",
   "metadata": {},
   "outputs": [
    {
     "name": "stderr",
     "output_type": "stream",
     "text": [
      "c:\\Users\\dell\\Desktop\\MLproject_TravelPackagePurchasePrediction\\venv\\Lib\\site-packages\\xgboost\\core.py:158: UserWarning: [12:47:34] WARNING: C:\\buildkite-agent\\builds\\buildkite-windows-cpu-autoscaling-group-i-06abd128ca6c1688d-1\\xgboost\\xgboost-ci-windows\\src\\learner.cc:740: \n",
      "Parameters: { \"use_label_encoder\" } are not used.\n",
      "\n",
      "  warnings.warn(smsg, UserWarning)\n",
      "c:\\Users\\dell\\Desktop\\MLproject_TravelPackagePurchasePrediction\\venv\\Lib\\site-packages\\xgboost\\core.py:158: UserWarning: [12:47:38] WARNING: C:\\buildkite-agent\\builds\\buildkite-windows-cpu-autoscaling-group-i-06abd128ca6c1688d-1\\xgboost\\xgboost-ci-windows\\src\\learner.cc:740: \n",
      "Parameters: { \"use_label_encoder\" } are not used.\n",
      "\n",
      "  warnings.warn(smsg, UserWarning)\n"
     ]
    },
    {
     "name": "stdout",
     "output_type": "stream",
     "text": [
      "Stacking with XGBoost Accuracy: 0.9229188078108942\n"
     ]
    }
   ],
   "source": [
    "#Stacking with XGBoost\n",
    "from sklearn.ensemble import StackingClassifier\n",
    "\n",
    "stacking_clf = StackingClassifier(\n",
    "    estimators=[\n",
    "        ('Random Forest', RandomForestClassifier(n_estimators=100)),\n",
    "        ('XGBoost', XGBClassifier(n_estimators=100, use_label_encoder=False, eval_metric='logloss'))\n",
    "    ],\n",
    "    final_estimator=LogisticRegression()\n",
    ")\n",
    "\n",
    "stacking_clf.fit(X_train, y_train)\n",
    "y_pred = stacking_clf.predict(X_test)\n",
    "accuracy = accuracy_score(y_test, y_pred)\n",
    "print(f\"Stacking with XGBoost Accuracy: {accuracy}\")\n"
   ]
  },
  {
   "cell_type": "code",
   "execution_count": 66,
   "id": "8d47bc6e",
   "metadata": {},
   "outputs": [
    {
     "name": "stdout",
     "output_type": "stream",
     "text": [
      "Fitting 5 folds for each of 324 candidates, totalling 1620 fits\n"
     ]
    },
    {
     "name": "stderr",
     "output_type": "stream",
     "text": [
      "c:\\Users\\dell\\Desktop\\MLproject_TravelPackagePurchasePrediction\\venv\\Lib\\site-packages\\numpy\\ma\\core.py:2820: RuntimeWarning: invalid value encountered in cast\n",
      "  _data = np.array(data, dtype=dtype, copy=copy,\n"
     ]
    },
    {
     "name": "stdout",
     "output_type": "stream",
     "text": [
      "Best Parameters: {'colsample_bytree': 1.0, 'learning_rate': 0.2, 'max_depth': 20, 'n_estimators': 200, 'num_leaves': 70, 'subsample': 0.8}\n",
      "LightGBM Accuracy: 0.934224049331963\n"
     ]
    }
   ],
   "source": [
    "import lightgbm as lgb\n",
    "from sklearn.model_selection import GridSearchCV\n",
    "\n",
    "# Define the LightGBM model\n",
    "lgb_model = lgb.LGBMClassifier(random_state=42,verbose=-1)\n",
    "\n",
    "# Parameter grid\n",
    "param_grid = {\n",
    "    'n_estimators': [50, 100, 200],\n",
    "    'max_depth': [-1, 10, 20],\n",
    "    'learning_rate': [0.01, 0.1, 0.2],\n",
    "    'num_leaves': [31, 50, 70],  # Controls complexity\n",
    "    'subsample': [0.8, 1.0],\n",
    "    'colsample_bytree': [0.8, 1.0]\n",
    "}\n",
    "\n",
    "# GridSearchCV\n",
    "grid_search_lgb = GridSearchCV(estimator=lgb_model, param_grid=param_grid, \n",
    "                               scoring='accuracy', cv=5, verbose=1)\n",
    "\n",
    "# Fit the model\n",
    "grid_search_lgb.fit(X_train, y_train)\n",
    "\n",
    "# Predict and evaluate\n",
    "y_pred = grid_search_lgb.predict(X_test)\n",
    "accuracy = accuracy_score(y_test, y_pred)\n",
    "\n",
    "print(f\"Best Parameters: {grid_search_lgb.best_params_}\")\n",
    "print(f\"LightGBM Accuracy: {accuracy}\")\n",
    "\n",
    "\n"
   ]
  },
  {
   "cell_type": "code",
   "execution_count": 70,
   "id": "17099227",
   "metadata": {},
   "outputs": [
    {
     "name": "stdout",
     "output_type": "stream",
     "text": [
      "Model saved successfully.\n"
     ]
    }
   ],
   "source": [
    "\n",
    "import pickle\n",
    "\n",
    "best_model = grid_search_lgb.best_estimator_\n",
    "with open('lightgbm_model.pkl', 'wb') as file:\n",
    "    pickle.dump(best_model, file)\n",
    "\n",
    "print(\"Model saved successfully.\")\n"
   ]
  },
  {
   "cell_type": "code",
   "execution_count": 68,
   "id": "da714ce9",
   "metadata": {},
   "outputs": [
    {
     "ename": "ModuleNotFoundError",
     "evalue": "No module named 'pkg_resources'",
     "output_type": "error",
     "traceback": [
      "\u001b[1;31m---------------------------------------------------------------------------\u001b[0m",
      "\u001b[1;31mModuleNotFoundError\u001b[0m                       Traceback (most recent call last)",
      "Cell \u001b[1;32mIn[68], line 1\u001b[0m\n\u001b[1;32m----> 1\u001b[0m \u001b[38;5;28;01mimport\u001b[39;00m \u001b[38;5;21;01mpkg_resources\u001b[39;00m\n\u001b[0;32m      3\u001b[0m installed_packages \u001b[38;5;241m=\u001b[39m pkg_resources\u001b[38;5;241m.\u001b[39mworking_set\n\u001b[0;32m      4\u001b[0m \u001b[38;5;28;01mfor\u001b[39;00m package \u001b[38;5;129;01min\u001b[39;00m installed_packages:\n",
      "\u001b[1;31mModuleNotFoundError\u001b[0m: No module named 'pkg_resources'"
     ]
    }
   ],
   "source": [
    "\n",
    "import pkg_resources\n",
    "\n",
    "installed_packages = pkg_resources.working_set\n",
    "for package in installed_packages:\n",
    "    print(f\"{package.key}=={package.version}\")\n"
   ]
  },
  {
   "cell_type": "code",
   "execution_count": null,
   "id": "f1aef040",
   "metadata": {},
   "outputs": [
    {
     "name": "stdout",
     "output_type": "stream",
     "text": [
      "Modules imported in the notebook:\n",
      "from xgboost import\n",
      "import importlib\n",
      "import json\n",
      "import lightgbm\n",
      "import matplotlib\n",
      "import numpy\n",
      "import pandas\n",
      "import pickle\n",
      "import pkg_resources\n",
      "import re\n",
      "import scipy\n",
      "import seaborn\n",
      "import sklearn\n"
     ]
    }
   ],
   "source": [
    "import json\n",
    "import re\n",
    "\n",
    "# Path to your notebook file\n",
    "notebook_path = \"Travel package prediction  .ipynb\"\n",
    "\n",
    "# Read the notebook content\n",
    "with open(notebook_path, 'r', encoding='utf-8') as file:\n",
    "    notebook_data = json.load(file)\n",
    "\n",
    "# Extract all code cells\n",
    "code_cells = [cell['source'] for cell in notebook_data['cells'] if cell['cell_type'] == 'code']\n",
    "\n",
    "# Find all imported modules\n",
    "imported_modules = set()\n",
    "pattern = re.compile(r\"^\\s*(import\\s+\\w+|from\\s+\\w+\\s+import\\s+)\", re.MULTILINE)\n",
    "\n",
    "for cell in code_cells:\n",
    "    matches = pattern.findall(\"\".join(cell))\n",
    "    for match in matches:\n",
    "        imported_modules.add(match.strip())\n",
    "\n",
    "# Display unique imports\n",
    "print(\"Modules imported in the notebook:\")\n",
    "for module in sorted(imported_modules):\n",
    "    print(module)\n"
   ]
  },
  {
   "cell_type": "code",
   "execution_count": null,
   "id": "bb435980",
   "metadata": {},
   "outputs": [
    {
     "name": "stdout",
     "output_type": "stream",
     "text": [
      "Module Versions:\n",
      "xgboost: 2.1.0\n",
      "lightgbm: 4.5.0\n",
      "matplotlib: 3.7.2\n",
      "numpy: 1.24.3\n",
      "pandas: 2.0.3\n",
      "pickle: Error determining version (The 'pickle' distribution was not found and is required by the application)\n",
      "scipy: 1.11.1\n",
      "seaborn: 0.12.2\n"
     ]
    }
   ],
   "source": [
    "import importlib\n",
    "import pkg_resources\n",
    "\n",
    "# List of modules imported in the notebook\n",
    "modules = [\n",
    "    \"xgboost\",\n",
    "    \"lightgbm\",\n",
    "    \"matplotlib\",\n",
    "    \"numpy\",\n",
    "    \"pandas\",\n",
    "    \"pickle\",  # Standard library, no version\n",
    "    \"scipy\",\n",
    "    \"seaborn\"\n",
    "]\n",
    "\n",
    "print(\"Module Versions:\")\n",
    "for module in modules:\n",
    "    try:\n",
    "        # Try importing the module\n",
    "        lib = importlib.import_module(module)\n",
    "        # Get version via __version__ or pkg_resources\n",
    "        version = getattr(lib, '__version__', pkg_resources.get_distribution(module).version)\n",
    "        print(f\"{module}: {version}\")\n",
    "    except ModuleNotFoundError:\n",
    "        print(f\"{module}: Not installed\")\n",
    "    except Exception as e:\n",
    "        print(f\"{module}: Error determining version ({e})\")\n"
   ]
  },
  {
   "cell_type": "code",
   "execution_count": null,
   "id": "b8382fb1",
   "metadata": {},
   "outputs": [
    {
     "name": "stdout",
     "output_type": "stream",
     "text": [
      "Sckit-learn :  1.3.0\n"
     ]
    }
   ],
   "source": [
    "print(\"Sckit-learn : \",sklearn.__version__)"
   ]
  },
  {
   "cell_type": "code",
   "execution_count": null,
   "id": "ae708b48",
   "metadata": {},
   "outputs": [
    {
     "name": "stdout",
     "output_type": "stream",
     "text": [
      "[1]\n"
     ]
    }
   ],
   "source": [
    "# Test input (use realistic values)\n",
    "test_input = [220002,30, 2, 15,1,2, 4, 5, 1, 1,2, 0, 2, 50000,1,1,0,0,0,0,1,0,1,0,1,0,0,0]\n",
    "# Replace with actual values\n",
    "test_array = np.array([test_input])\n",
    "\n",
    "# Make prediction\n",
    "print(grid_search_lgb .predict(test_array))"
   ]
  },
  {
   "cell_type": "code",
   "execution_count": null,
   "id": "52c24694",
   "metadata": {},
   "outputs": [
    {
     "name": "stdout",
     "output_type": "stream",
     "text": [
      "GridSearchCV(cv=5, estimator=LGBMClassifier(random_state=42, verbose=-1),\n",
      "             param_grid={'colsample_bytree': [0.8, 1.0],\n",
      "                         'learning_rate': [0.01, 0.1, 0.2],\n",
      "                         'max_depth': [-1, 10, 20],\n",
      "                         'n_estimators': [50, 100, 200],\n",
      "                         'num_leaves': [31, 50, 70], 'subsample': [0.8, 1.0]},\n",
      "             scoring='accuracy', verbose=1)\n"
     ]
    }
   ],
   "source": [
    "print(grid_search_lgb )\n"
   ]
  },
  {
   "cell_type": "code",
   "execution_count": null,
   "id": "425bdb41",
   "metadata": {},
   "outputs": [
    {
     "ename": "AttributeError",
     "evalue": "'GridSearchCV' object has no attribute 'save_model'",
     "output_type": "error",
     "traceback": [
      "\u001b[1;31m---------------------------------------------------------------------------\u001b[0m",
      "\u001b[1;31mAttributeError\u001b[0m                            Traceback (most recent call last)",
      "Cell \u001b[1;32mIn[45], line 4\u001b[0m\n\u001b[0;32m      1\u001b[0m \u001b[38;5;28;01mimport\u001b[39;00m \u001b[38;5;21;01mlightgbm\u001b[39;00m \u001b[38;5;28;01mas\u001b[39;00m \u001b[38;5;21;01mlgb\u001b[39;00m\n\u001b[0;32m      3\u001b[0m \u001b[38;5;66;03m# Save the LightGBM model\u001b[39;00m\n\u001b[1;32m----> 4\u001b[0m grid_search_lgb \u001b[38;5;241m.\u001b[39msave_model(\u001b[38;5;124m'\u001b[39m\u001b[38;5;124mlightgbm_model.txt\u001b[39m\u001b[38;5;124m'\u001b[39m)\n\u001b[0;32m      6\u001b[0m \u001b[38;5;66;03m# Load the LightGBM model\u001b[39;00m\n\u001b[0;32m      7\u001b[0m grid_search_lgb  \u001b[38;5;241m=\u001b[39m lgb\u001b[38;5;241m.\u001b[39mBooster(model_file\u001b[38;5;241m=\u001b[39m\u001b[38;5;124m'\u001b[39m\u001b[38;5;124mlightgbm_model.txt\u001b[39m\u001b[38;5;124m'\u001b[39m)\n",
      "\u001b[1;31mAttributeError\u001b[0m: 'GridSearchCV' object has no attribute 'save_model'"
     ]
    }
   ],
   "source": [
    "import lightgbm as lgb\n",
    "\n",
    "# Save the LightGBM model\n",
    "grid_search_lgb .save_model('lightgbm_model.txt')\n",
    "\n",
    "# Load the LightGBM model\n",
    "grid_search_lgb  = lgb.Booster(model_file='lightgbm_model.txt')\n"
   ]
  },
  {
   "cell_type": "code",
   "execution_count": null,
   "id": "b9294888",
   "metadata": {},
   "outputs": [
    {
     "name": "stdout",
     "output_type": "stream",
     "text": [
      "Index(['CustomerID', 'ProdTaken', 'Age', 'CityTier', 'DurationOfPitch',\n",
      "       'Gender', 'NumberOfPersonVisiting', 'NumberOfFollowups',\n",
      "       'PreferredPropertyStar', 'NumberOfTrips', 'Passport',\n",
      "       'PitchSatisfactionScore', 'OwnCar', 'NumberOfChildrenVisiting',\n",
      "       'MonthlyIncome', 'TypeofContact_Self Enquiry',\n",
      "       'Occupation_Large Business', 'Occupation_Salaried',\n",
      "       'Occupation_Small Business', 'ProductPitched_Deluxe',\n",
      "       'ProductPitched_King', 'ProductPitched_Standard',\n",
      "       'ProductPitched_Super Deluxe', 'MaritalStatus_Married',\n",
      "       'MaritalStatus_Unmarried', 'Designation_Executive',\n",
      "       'Designation_Manager', 'Designation_Senior Manager', 'Designation_VP'],\n",
      "      dtype='object')\n"
     ]
    }
   ],
   "source": [
    "print(data.columns)\n",
    "\n"
   ]
  },
  {
   "cell_type": "code",
   "execution_count": null,
   "id": "ad990842",
   "metadata": {},
   "outputs": [
    {
     "ename": "NameError",
     "evalue": "name 'feature_list' is not defined",
     "output_type": "error",
     "traceback": [
      "\u001b[1;31m---------------------------------------------------------------------------\u001b[0m",
      "\u001b[1;31mNameError\u001b[0m                                 Traceback (most recent call last)",
      "Cell \u001b[1;32mIn[52], line 1\u001b[0m\n\u001b[1;32m----> 1\u001b[0m X_train \u001b[38;5;241m=\u001b[39m data[feature_list]\u001b[38;5;241m.\u001b[39mvalues\n",
      "\u001b[1;31mNameError\u001b[0m: name 'feature_list' is not defined"
     ]
    }
   ],
   "source": [
    "X_train = data[feature_list].values"
   ]
  },
  {
   "cell_type": "code",
   "execution_count": null,
   "id": "54d63bde",
   "metadata": {},
   "outputs": [
    {
     "name": "stdout",
     "output_type": "stream",
     "text": [
      "X_train shape: (3890, 28)\n"
     ]
    }
   ],
   "source": [
    "print(\"X_train shape:\", X_train.shape)  # Number of rows and features\n",
    "\n"
   ]
  },
  {
   "cell_type": "code",
   "execution_count": null,
   "id": "30528c14",
   "metadata": {},
   "outputs": [],
   "source": []
  }
 ],
 "metadata": {
  "kernelspec": {
   "display_name": "venv",
   "language": "python",
   "name": "python3"
  },
  "language_info": {
   "codemirror_mode": {
    "name": "ipython",
    "version": 3
   },
   "file_extension": ".py",
   "mimetype": "text/x-python",
   "name": "python",
   "nbconvert_exporter": "python",
   "pygments_lexer": "ipython3",
   "version": "3.12.1"
  }
 },
 "nbformat": 4,
 "nbformat_minor": 5
}
